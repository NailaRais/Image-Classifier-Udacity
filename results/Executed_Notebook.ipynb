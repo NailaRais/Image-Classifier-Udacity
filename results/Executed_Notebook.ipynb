{
 "cells": [
  {
   "cell_type": "markdown",
   "id": "ddc05b42",
   "metadata": {
    "papermill": {
     "duration": 0.003959,
     "end_time": "2025-01-16T08:20:02.811026",
     "exception": false,
     "start_time": "2025-01-16T08:20:02.807067",
     "status": "completed"
    },
    "tags": []
   },
   "source": [
    "# Prepare the workspace\n",
    "Check torch version and CUDA status if GPU is enabled.\n"
   ]
  },
  {
   "cell_type": "code",
   "execution_count": 1,
   "id": "f363c6fb",
   "metadata": {
    "execution": {
     "iopub.execute_input": "2025-01-16T08:20:02.819375Z",
     "iopub.status.busy": "2025-01-16T08:20:02.818766Z",
     "iopub.status.idle": "2025-01-16T08:20:04.107319Z",
     "shell.execute_reply": "2025-01-16T08:20:04.106592Z"
    },
    "papermill": {
     "duration": 1.293942,
     "end_time": "2025-01-16T08:20:04.108555",
     "exception": false,
     "start_time": "2025-01-16T08:20:02.814613",
     "status": "completed"
    },
    "tags": []
   },
   "outputs": [
    {
     "name": "stdout",
     "output_type": "stream",
     "text": [
      "2.0.1+cu117\n",
      "False\n"
     ]
    }
   ],
   "source": [
    "import torch\n",
    "print(torch.__version__)\n",
    "print(torch.cuda.is_available())  # Should return True when GPU is enabled."
   ]
  },
  {
   "cell_type": "markdown",
   "id": "783ff5bc",
   "metadata": {
    "papermill": {
     "duration": 0.257347,
     "end_time": "2025-01-16T08:20:04.458212",
     "exception": false,
     "start_time": "2025-01-16T08:20:04.200865",
     "status": "completed"
    },
    "tags": []
   },
   "source": [
    "# Imports here\n"
   ]
  },
  {
   "cell_type": "code",
   "execution_count": 2,
   "id": "f2abcd56",
   "metadata": {
    "execution": {
     "iopub.execute_input": "2025-01-16T08:20:04.915258Z",
     "iopub.status.busy": "2025-01-16T08:20:04.914504Z",
     "iopub.status.idle": "2025-01-16T08:20:08.145718Z",
     "shell.execute_reply": "2025-01-16T08:20:08.144953Z"
    },
    "papermill": {
     "duration": 3.496394,
     "end_time": "2025-01-16T08:20:08.147099",
     "exception": false,
     "start_time": "2025-01-16T08:20:04.650705",
     "status": "completed"
    },
    "tags": []
   },
   "outputs": [],
   "source": [
    "import pandas as pd\n",
    "import numpy as np\n",
    "import torch\n",
    "from torch import nn, optim\n",
    "from torchvision import datasets, transforms, models\n",
    "import json\n",
    "from PIL import Image\n",
    "import matplotlib.pyplot as plt\n"
   ]
  },
  {
   "cell_type": "markdown",
   "id": "58a9066f",
   "metadata": {
    "papermill": {
     "duration": 0.003153,
     "end_time": "2025-01-16T08:20:08.153906",
     "exception": false,
     "start_time": "2025-01-16T08:20:08.150753",
     "status": "completed"
    },
    "tags": []
   },
   "source": [
    "## Load the data\n",
    "Here you'll use `torchvision` to load the data.\n"
   ]
  },
  {
   "cell_type": "code",
   "execution_count": 3,
   "id": "ed836ac4",
   "metadata": {
    "execution": {
     "iopub.execute_input": "2025-01-16T08:20:08.162184Z",
     "iopub.status.busy": "2025-01-16T08:20:08.161326Z",
     "iopub.status.idle": "2025-01-16T08:20:08.165387Z",
     "shell.execute_reply": "2025-01-16T08:20:08.164693Z"
    },
    "papermill": {
     "duration": 0.009356,
     "end_time": "2025-01-16T08:20:08.166513",
     "exception": false,
     "start_time": "2025-01-16T08:20:08.157157",
     "status": "completed"
    },
    "tags": []
   },
   "outputs": [],
   "source": [
    "data_dir = 'flower_data'\n",
    "train_dir = data_dir + '/train'\n",
    "valid_dir = data_dir + '/valid'\n",
    "test_dir = data_dir + '/test'\n"
   ]
  },
  {
   "cell_type": "markdown",
   "id": "0d8585ce",
   "metadata": {
    "papermill": {
     "duration": 0.003266,
     "end_time": "2025-01-16T08:20:08.173203",
     "exception": false,
     "start_time": "2025-01-16T08:20:08.169937",
     "status": "completed"
    },
    "tags": []
   },
   "source": [
    "# Define your transforms for the training, validation, and testing sets\n"
   ]
  },
  {
   "cell_type": "code",
   "execution_count": 4,
   "id": "7fce7519",
   "metadata": {
    "execution": {
     "iopub.execute_input": "2025-01-16T08:20:08.182234Z",
     "iopub.status.busy": "2025-01-16T08:20:08.181790Z",
     "iopub.status.idle": "2025-01-16T08:20:08.187361Z",
     "shell.execute_reply": "2025-01-16T08:20:08.186690Z"
    },
    "papermill": {
     "duration": 0.010688,
     "end_time": "2025-01-16T08:20:08.188484",
     "exception": false,
     "start_time": "2025-01-16T08:20:08.177796",
     "status": "completed"
    },
    "tags": []
   },
   "outputs": [],
   "source": [
    "data_transforms = {\n",
    "    'train': transforms.Compose([\n",
    "        transforms.RandomResizedCrop(224),\n",
    "        transforms.RandomHorizontalFlip(),\n",
    "        transforms.ToTensor(),\n",
    "        transforms.Normalize(mean=[0.485, 0.456, 0.406], std=[0.229, 0.224, 0.225])\n",
    "    ]),\n",
    "    'valid': transforms.Compose([\n",
    "        transforms.Resize(256),\n",
    "        transforms.CenterCrop(224),\n",
    "        transforms.ToTensor(),\n",
    "        transforms.Normalize(mean=[0.485, 0.456, 0.406], std=[0.229, 0.224, 0.225])\n",
    "    ]),\n",
    "    'test': transforms.Compose([\n",
    "        transforms.Resize(256),\n",
    "        transforms.CenterCrop(224),\n",
    "        transforms.ToTensor(),\n",
    "        transforms.Normalize(mean=[0.485, 0.456, 0.406], std=[0.229, 0.224, 0.225])\n",
    "    ])\n",
    "}\n"
   ]
  },
  {
   "cell_type": "markdown",
   "id": "c4f2d620",
   "metadata": {
    "papermill": {
     "duration": 0.003383,
     "end_time": "2025-01-16T08:20:08.195312",
     "exception": false,
     "start_time": "2025-01-16T08:20:08.191929",
     "status": "completed"
    },
    "tags": []
   },
   "source": [
    "# Load the datasets with ImageFolder\n"
   ]
  },
  {
   "cell_type": "code",
   "execution_count": 5,
   "id": "9a31c538",
   "metadata": {
    "execution": {
     "iopub.execute_input": "2025-01-16T08:20:08.203155Z",
     "iopub.status.busy": "2025-01-16T08:20:08.202635Z",
     "iopub.status.idle": "2025-01-16T08:20:08.232294Z",
     "shell.execute_reply": "2025-01-16T08:20:08.231589Z"
    },
    "papermill": {
     "duration": 0.035047,
     "end_time": "2025-01-16T08:20:08.233684",
     "exception": false,
     "start_time": "2025-01-16T08:20:08.198637",
     "status": "completed"
    },
    "tags": []
   },
   "outputs": [],
   "source": [
    "image_datasets = {\n",
    "    'train': datasets.ImageFolder(train_dir, transform=data_transforms['train']),\n",
    "    'valid': datasets.ImageFolder(valid_dir, transform=data_transforms['valid']),\n",
    "    'test': datasets.ImageFolder(test_dir, transform=data_transforms['test'])\n",
    "}\n"
   ]
  },
  {
   "cell_type": "markdown",
   "id": "1fb832c3",
   "metadata": {
    "papermill": {
     "duration": 0.003333,
     "end_time": "2025-01-16T08:20:08.240730",
     "exception": false,
     "start_time": "2025-01-16T08:20:08.237397",
     "status": "completed"
    },
    "tags": []
   },
   "source": [
    "# Using the image datasets and the transforms, define the dataloaders\n"
   ]
  },
  {
   "cell_type": "code",
   "execution_count": 6,
   "id": "4e2417a6",
   "metadata": {
    "execution": {
     "iopub.execute_input": "2025-01-16T08:20:08.248403Z",
     "iopub.status.busy": "2025-01-16T08:20:08.248000Z",
     "iopub.status.idle": "2025-01-16T08:20:08.252528Z",
     "shell.execute_reply": "2025-01-16T08:20:08.251885Z"
    },
    "papermill": {
     "duration": 0.00959,
     "end_time": "2025-01-16T08:20:08.253679",
     "exception": false,
     "start_time": "2025-01-16T08:20:08.244089",
     "status": "completed"
    },
    "tags": []
   },
   "outputs": [],
   "source": [
    "dataloaders = {\n",
    "    'train': torch.utils.data.DataLoader(image_datasets['train'], batch_size=32, shuffle=True),\n",
    "    'valid': torch.utils.data.DataLoader(image_datasets['valid'], batch_size=32, shuffle=True),\n",
    "    'test': torch.utils.data.DataLoader(image_datasets['test'], batch_size=32, shuffle=True)\n",
    "}\n"
   ]
  },
  {
   "cell_type": "markdown",
   "id": "5ae37b44",
   "metadata": {
    "papermill": {
     "duration": 0.003356,
     "end_time": "2025-01-16T08:20:08.260507",
     "exception": false,
     "start_time": "2025-01-16T08:20:08.257151",
     "status": "completed"
    },
    "tags": []
   },
   "source": [
    "### Label mapping\n",
    "You'll also need to load in a mapping from category label to category name. You can find this in the file `cat_to_name.json`."
   ]
  },
  {
   "cell_type": "code",
   "execution_count": 7,
   "id": "ab6bc8a9",
   "metadata": {
    "execution": {
     "iopub.execute_input": "2025-01-16T08:20:08.268217Z",
     "iopub.status.busy": "2025-01-16T08:20:08.267675Z",
     "iopub.status.idle": "2025-01-16T08:20:08.271240Z",
     "shell.execute_reply": "2025-01-16T08:20:08.270699Z"
    },
    "papermill": {
     "duration": 0.008453,
     "end_time": "2025-01-16T08:20:08.272236",
     "exception": false,
     "start_time": "2025-01-16T08:20:08.263783",
     "status": "completed"
    },
    "tags": []
   },
   "outputs": [],
   "source": [
    "with open('cat_to_name.json', 'r') as f:\n",
    "    cat_to_name = json.load(f)\n"
   ]
  },
  {
   "cell_type": "markdown",
   "id": "7529fa42",
   "metadata": {
    "papermill": {
     "duration": 0.003371,
     "end_time": "2025-01-16T08:20:08.279091",
     "exception": false,
     "start_time": "2025-01-16T08:20:08.275720",
     "status": "completed"
    },
    "tags": []
   },
   "source": [
    "# Building and training the classifier\n",
    "Now that the data is ready, it's time to build and train the classifier."
   ]
  },
  {
   "cell_type": "code",
   "execution_count": 8,
   "id": "8789ddb9",
   "metadata": {
    "execution": {
     "iopub.execute_input": "2025-01-16T08:20:08.287086Z",
     "iopub.status.busy": "2025-01-16T08:20:08.286624Z",
     "iopub.status.idle": "2025-01-16T08:20:08.292530Z",
     "shell.execute_reply": "2025-01-16T08:20:08.291968Z"
    },
    "papermill": {
     "duration": 0.011036,
     "end_time": "2025-01-16T08:20:08.293567",
     "exception": false,
     "start_time": "2025-01-16T08:20:08.282531",
     "status": "completed"
    },
    "tags": []
   },
   "outputs": [],
   "source": [
    "def train_network(model, dataloaders, criterion, optimizer, epochs=5):\n",
    "    device = torch.device(\"cuda\" if torch.cuda.is_available() else \"cpu\")\n",
    "    model.to(device)\n",
    "    for epoch in range(epochs):\n",
    "        model.train()  # Set the model to training mode\n",
    "        running_loss = 0.0\n",
    "        correct = 0\n",
    "        total = 0\n",
    "        for inputs, labels in dataloaders['train']:\n",
    "            inputs, labels = inputs.to(device), labels.to(device)\n",
    "            optimizer.zero_grad()  # Zero the gradients\n",
    "            outputs = model(inputs)\n",
    "            loss = criterion(outputs, labels)\n",
    "            loss.backward()\n",
    "            optimizer.step()\n",
    "            running_loss += loss.item()  # Accumulate the loss\n",
    "            _, predicted = torch.max(outputs, 1)\n",
    "            total += labels.size(0)\n",
    "            correct += (predicted == labels).sum().item()\n",
    "        train_accuracy = correct / total\n",
    "        print(f\"Epoch {epoch + 1}/{epochs}\")\n",
    "        print(f\"Training Loss: {running_loss / len(dataloaders['train']):.4f}, Accuracy: {train_accuracy:.4f}\")\n",
    "    return model  # Return the trained model\n"
   ]
  },
  {
   "cell_type": "markdown",
   "id": "4a665a4e",
   "metadata": {
    "papermill": {
     "duration": 0.003295,
     "end_time": "2025-01-16T08:20:08.300298",
     "exception": false,
     "start_time": "2025-01-16T08:20:08.297003",
     "status": "completed"
    },
    "tags": []
   },
   "source": [
    "## Testing your network\n",
    "It's good practice to test your trained network on test data."
   ]
  },
  {
   "cell_type": "code",
   "execution_count": 9,
   "id": "5575a0e8",
   "metadata": {
    "execution": {
     "iopub.execute_input": "2025-01-16T08:20:08.308150Z",
     "iopub.status.busy": "2025-01-16T08:20:08.307752Z",
     "iopub.status.idle": "2025-01-16T08:20:08.312450Z",
     "shell.execute_reply": "2025-01-16T08:20:08.311898Z"
    },
    "papermill": {
     "duration": 0.009808,
     "end_time": "2025-01-16T08:20:08.313477",
     "exception": false,
     "start_time": "2025-01-16T08:20:08.303669",
     "status": "completed"
    },
    "tags": []
   },
   "outputs": [],
   "source": [
    "def test_network(model, dataloaders, criterion):\n",
    "    model.eval()  # Set the model to evaluation mode\n",
    "    running_loss = 0.0\n",
    "    correct = 0\n",
    "    total = 0\n",
    "    with torch.no_grad():\n",
    "        for inputs, labels in dataloaders['test']:\n",
    "            inputs, labels = inputs.to(device), labels.to(device)\n",
    "            outputs = model(inputs)\n",
    "            loss = criterion(outputs, labels)\n",
    "            running_loss += loss.item()\n",
    "            _, predicted = torch.max(outputs, 1)\n",
    "            total += labels.size(0)\n",
    "            correct += (predicted == labels).sum().item()\n",
    "    test_accuracy = correct / total\n",
    "    print(f\"Test Loss: {running_loss / len(dataloaders['test']):.4f}, Accuracy: {test_accuracy:.4f}\")\n",
    "    return test_accuracy  # Return test accuracy\n"
   ]
  },
  {
   "cell_type": "markdown",
   "id": "de698472",
   "metadata": {
    "papermill": {
     "duration": 0.003461,
     "end_time": "2025-01-16T08:20:08.320449",
     "exception": false,
     "start_time": "2025-01-16T08:20:08.316988",
     "status": "completed"
    },
    "tags": []
   },
   "source": [
    "## Save the checkpoint\n",
    "Now that your network is trained, save the model so you can load it later for making predictions."
   ]
  },
  {
   "cell_type": "code",
   "execution_count": 10,
   "id": "bd5dd84b",
   "metadata": {
    "execution": {
     "iopub.execute_input": "2025-01-16T08:20:08.328389Z",
     "iopub.status.busy": "2025-01-16T08:20:08.327928Z",
     "iopub.status.idle": "2025-01-16T08:20:08.331845Z",
     "shell.execute_reply": "2025-01-16T08:20:08.331249Z"
    },
    "papermill": {
     "duration": 0.009016,
     "end_time": "2025-01-16T08:20:08.332883",
     "exception": false,
     "start_time": "2025-01-16T08:20:08.323867",
     "status": "completed"
    },
    "tags": []
   },
   "outputs": [],
   "source": [
    "def save_checkpoint(model, optimizer, epoch, loss, file_path='model_checkpoint.pth'):\n",
    "    checkpoint = {\n",
    "        'epoch': epoch,\n",
    "        'model_state_dict': model.state_dict(),\n",
    "        'optimizer_state_dict': optimizer.state_dict(),\n",
    "        'loss': loss\n",
    "    }\n",
    "    torch.save(checkpoint, file_path)\n",
    "    print(f\"Checkpoint saved to {file_path}\")\n"
   ]
  },
  {
   "cell_type": "markdown",
   "id": "8852f99d",
   "metadata": {
    "papermill": {
     "duration": 0.003414,
     "end_time": "2025-01-16T08:20:08.339866",
     "exception": false,
     "start_time": "2025-01-16T08:20:08.336452",
     "status": "completed"
    },
    "tags": []
   },
   "source": [
    "## Loading the checkpoint\n",
    "At this point it's good to write a function that can load a checkpoint and rebuild the model."
   ]
  },
  {
   "cell_type": "code",
   "execution_count": 11,
   "id": "207d769a",
   "metadata": {
    "execution": {
     "iopub.execute_input": "2025-01-16T08:20:08.347847Z",
     "iopub.status.busy": "2025-01-16T08:20:08.347336Z",
     "iopub.status.idle": "2025-01-16T08:20:08.351667Z",
     "shell.execute_reply": "2025-01-16T08:20:08.351078Z"
    },
    "papermill": {
     "duration": 0.009492,
     "end_time": "2025-01-16T08:20:08.352771",
     "exception": false,
     "start_time": "2025-01-16T08:20:08.343279",
     "status": "completed"
    },
    "tags": []
   },
   "outputs": [],
   "source": [
    "def load_model_from_checkpoint(model_class, model_params, checkpoint_path='model_checkpoint.pth'):\n",
    "    model = model_class(**model_params)\n",
    "    checkpoint = torch.load(checkpoint_path)\n",
    "    model.load_state_dict(checkpoint['model_state_dict'])\n",
    "    optimizer = model_params['optimizer_class'](model.parameters(), **model_params['optimizer_params'])\n",
    "    optimizer.load_state_dict(checkpoint['optimizer_state_dict'])\n",
    "    epoch = checkpoint['epoch']\n",
    "    loss = checkpoint['loss']\n",
    "    print(f\"Checkpoint loaded from {checkpoint_path}. Model trained until epoch {epoch} with loss {loss}\")\n",
    "    return model, optimizer, epoch, loss\n"
   ]
  },
  {
   "cell_type": "markdown",
   "id": "9fdd831e",
   "metadata": {
    "papermill": {
     "duration": 0.003477,
     "end_time": "2025-01-16T08:20:08.359798",
     "exception": false,
     "start_time": "2025-01-16T08:20:08.356321",
     "status": "completed"
    },
    "tags": []
   },
   "source": [
    "## Inference for classification\n",
    "Now you'll write a function to use a trained network for inference."
   ]
  },
  {
   "cell_type": "code",
   "execution_count": 12,
   "id": "f1a7e238",
   "metadata": {
    "execution": {
     "iopub.execute_input": "2025-01-16T08:20:08.367767Z",
     "iopub.status.busy": "2025-01-16T08:20:08.367371Z",
     "iopub.status.idle": "2025-01-16T08:20:08.372134Z",
     "shell.execute_reply": "2025-01-16T08:20:08.371595Z"
    },
    "papermill": {
     "duration": 0.009804,
     "end_time": "2025-01-16T08:20:08.373137",
     "exception": false,
     "start_time": "2025-01-16T08:20:08.363333",
     "status": "completed"
    },
    "tags": []
   },
   "outputs": [],
   "source": [
    "def predict_class(image_path, model=None, input_size=(224, 224), mean=None, std=None):\n",
    "    processed_image = process_image(image_path, input_size, mean, std)\n",
    "    processed_image = processed_image.unsqueeze(0)\n",
    "    if model is None:\n",
    "        model = models.resnet18(pretrained=True)\n",
    "        model.eval()\n",
    "    with torch.no_grad():\n",
    "        output = model(processed_image)\n",
    "    _, predicted_class = torch.max(output, 1)\n",
    "    if not hasattr(predict_class, 'imagenet_class_index'):\n",
    "        url = 'https://storage.googleapis.com/download.tensorflow.org/data/imagenet_class_index.json'\n",
    "        response = requests.get(url)\n",
    "        predict_class.imagenet_class_index = response.json()\n",
    "    class_idx = predicted_class.item()\n",
    "    class_label = predict_class.imagenet_class_index[str(class_idx)][1]\n",
    "    return class_label, class_idx\n"
   ]
  },
  {
   "cell_type": "markdown",
   "id": "82b948dc",
   "metadata": {
    "papermill": {
     "duration": 0.003481,
     "end_time": "2025-01-16T08:20:08.380229",
     "exception": false,
     "start_time": "2025-01-16T08:20:08.376748",
     "status": "completed"
    },
    "tags": []
   },
   "source": [
    "## Example usage:\n",
    "image_path = 'assets/Flowers.png'\n",
    "mean = [0.485, 0.456, 0.406]\n",
    "std = [0.229, 0.224, 0.225]\n",
    "predicted_label, predicted_class_idx = predict_class(image_path, mean=mean, std=std)\n",
    "print(f'Predicted class: {predicted_label} (Class index: {predicted_class_idx})')\n"
   ]
  },
  {
   "cell_type": "markdown",
   "id": "75059621",
   "metadata": {
    "papermill": {
     "duration": 0.003421,
     "end_time": "2025-01-16T08:20:08.387260",
     "exception": false,
     "start_time": "2025-01-16T08:20:08.383839",
     "status": "completed"
    },
    "tags": []
   },
   "source": [
    "## Sanity Checking\n",
    "Now that you can use a trained model for predictions, check to make sure it makes sense."
   ]
  },
  {
   "cell_type": "code",
   "execution_count": 13,
   "id": "cb4011e0",
   "metadata": {
    "execution": {
     "iopub.execute_input": "2025-01-16T08:20:08.395243Z",
     "iopub.status.busy": "2025-01-16T08:20:08.394838Z",
     "iopub.status.idle": "2025-01-16T08:20:08.398970Z",
     "shell.execute_reply": "2025-01-16T08:20:08.398410Z"
    },
    "papermill": {
     "duration": 0.009226,
     "end_time": "2025-01-16T08:20:08.399958",
     "exception": false,
     "start_time": "2025-01-16T08:20:08.390732",
     "status": "completed"
    },
    "tags": []
   },
   "outputs": [],
   "source": [
    "def display_image_with_predictions(image_path, top5_labels, probs, image_tensor):\n",
    "    image_tensor = image_tensor.squeeze(0)\n",
    "    image = transforms.ToPILImage()(image_tensor)\n",
    "    plt.figure(figsize=(8, 6))\n",
    "    plt.imshow(image)\n",
    "    plt.axis('off')\n",
    "    plt.title(\"Top 5 Predictions\")\n",
    "    for i in range(5):\n",
    "        plt.text(0, i*20, f'{top5_labels[i]}: {probs[i]*100:.2f}%', color='white', fontsize=12)\n",
    "    plt.show()\n"
   ]
  }
 ],
 "metadata": {
  "kernelspec": {
   "display_name": "Python 3",
   "language": "python",
   "name": "python3"
  },
  "language_info": {
   "codemirror_mode": {
    "name": "ipython",
    "version": 3
   },
   "file_extension": ".py",
   "mimetype": "text/x-python",
   "name": "python",
   "nbconvert_exporter": "python",
   "pygments_lexer": "ipython3",
   "version": "3.8.18"
  },
  "papermill": {
   "default_parameters": {},
   "duration": 7.082019,
   "end_time": "2025-01-16T08:20:09.020472",
   "environment_variables": {},
   "exception": null,
   "input_path": "Notebook.ipynb",
   "output_path": "Executed_Notebook.ipynb",
   "parameters": {},
   "start_time": "2025-01-16T08:20:01.938453",
   "version": "2.6.0"
  }
 },
 "nbformat": 4,
 "nbformat_minor": 5
}